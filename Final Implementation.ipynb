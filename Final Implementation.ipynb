{
 "cells": [
  {
   "cell_type": "code",
   "execution_count": 4,
   "id": "93769cb0",
   "metadata": {},
   "outputs": [
    {
     "data": {
      "text/html": [
       "<div>\n",
       "<style scoped>\n",
       "    .dataframe tbody tr th:only-of-type {\n",
       "        vertical-align: middle;\n",
       "    }\n",
       "\n",
       "    .dataframe tbody tr th {\n",
       "        vertical-align: top;\n",
       "    }\n",
       "\n",
       "    .dataframe thead th {\n",
       "        text-align: right;\n",
       "    }\n",
       "</style>\n",
       "<table border=\"1\" class=\"dataframe\">\n",
       "  <thead>\n",
       "    <tr style=\"text-align: right;\">\n",
       "      <th></th>\n",
       "      <th>Tweets</th>\n",
       "      <th>Label</th>\n",
       "    </tr>\n",
       "  </thead>\n",
       "  <tbody>\n",
       "    <tr>\n",
       "      <th>0</th>\n",
       "      <td>Get fucking real dude.</td>\n",
       "      <td>1</td>\n",
       "    </tr>\n",
       "    <tr>\n",
       "      <th>1</th>\n",
       "      <td>She is as dirty as they come  and that crook ...</td>\n",
       "      <td>1</td>\n",
       "    </tr>\n",
       "    <tr>\n",
       "      <th>2</th>\n",
       "      <td>why did you fuck it up. I could do it all day...</td>\n",
       "      <td>1</td>\n",
       "    </tr>\n",
       "    <tr>\n",
       "      <th>3</th>\n",
       "      <td>Dude they dont finish enclosing the fucking s...</td>\n",
       "      <td>1</td>\n",
       "    </tr>\n",
       "    <tr>\n",
       "      <th>4</th>\n",
       "      <td>WTF are you talking about Men? No men thats n...</td>\n",
       "      <td>1</td>\n",
       "    </tr>\n",
       "    <tr>\n",
       "      <th>...</th>\n",
       "      <td>...</td>\n",
       "      <td>...</td>\n",
       "    </tr>\n",
       "    <tr>\n",
       "      <th>19995</th>\n",
       "      <td>I dont. But what is complaining about it goi...</td>\n",
       "      <td>0</td>\n",
       "    </tr>\n",
       "    <tr>\n",
       "      <th>19996</th>\n",
       "      <td>Bahah  yeah i&amp;;m totally just gonna&amp;; get pis...</td>\n",
       "      <td>0</td>\n",
       "    </tr>\n",
       "    <tr>\n",
       "      <th>19997</th>\n",
       "      <td>hahahahaha &gt;:) im evil mwahahahahahahahahaha</td>\n",
       "      <td>0</td>\n",
       "    </tr>\n",
       "    <tr>\n",
       "      <th>19998</th>\n",
       "      <td>What&amp;;s something unique about Ohio? :)</td>\n",
       "      <td>0</td>\n",
       "    </tr>\n",
       "    <tr>\n",
       "      <th>19999</th>\n",
       "      <td>Who is the biggest gossiper you know?</td>\n",
       "      <td>0</td>\n",
       "    </tr>\n",
       "  </tbody>\n",
       "</table>\n",
       "<p>20000 rows × 2 columns</p>\n",
       "</div>"
      ],
      "text/plain": [
       "                                                  Tweets  Label\n",
       "0                                 Get fucking real dude.      1\n",
       "1       She is as dirty as they come  and that crook ...      1\n",
       "2       why did you fuck it up. I could do it all day...      1\n",
       "3       Dude they dont finish enclosing the fucking s...      1\n",
       "4       WTF are you talking about Men? No men thats n...      1\n",
       "...                                                  ...    ...\n",
       "19995    I dont. But what is complaining about it goi...      0\n",
       "19996   Bahah  yeah i&;m totally just gonna&; get pis...      0\n",
       "19997       hahahahaha >:) im evil mwahahahahahahahahaha      0\n",
       "19998            What&;s something unique about Ohio? :)      0\n",
       "19999              Who is the biggest gossiper you know?      0\n",
       "\n",
       "[20000 rows x 2 columns]"
      ]
     },
     "execution_count": 4,
     "metadata": {},
     "output_type": "execute_result"
    }
   ],
   "source": [
    "import numpy as np\n",
    "import pandas as pd\n",
    "import tensorflow as tf\n",
    "import math\n",
    "import matplotlib.pyplot as plt\n",
    "%matplotlib inline\n",
    "file=pd.read_csv('Dataset for Detection of Cyber-Trolls.csv')\n",
    "file"
   ]
  },
  {
   "cell_type": "code",
   "execution_count": 5,
   "id": "f58f1c61",
   "metadata": {},
   "outputs": [
    {
     "data": {
      "text/plain": [
       "(20000, 2)"
      ]
     },
     "execution_count": 5,
     "metadata": {},
     "output_type": "execute_result"
    }
   ],
   "source": [
    "file.shape"
   ]
  },
  {
   "cell_type": "code",
   "execution_count": 6,
   "id": "7575ecb0",
   "metadata": {},
   "outputs": [
    {
     "data": {
      "text/plain": [
       "0    12178\n",
       "1     7822\n",
       "Name: Label, dtype: int64"
      ]
     },
     "execution_count": 6,
     "metadata": {},
     "output_type": "execute_result"
    }
   ],
   "source": [
    "file.Label.value_counts()"
   ]
  },
  {
   "cell_type": "code",
   "execution_count": 7,
   "id": "a3cb0b92",
   "metadata": {},
   "outputs": [
    {
     "data": {
      "text/html": [
       "<div>\n",
       "<style scoped>\n",
       "    .dataframe tbody tr th:only-of-type {\n",
       "        vertical-align: middle;\n",
       "    }\n",
       "\n",
       "    .dataframe tbody tr th {\n",
       "        vertical-align: top;\n",
       "    }\n",
       "\n",
       "    .dataframe thead th {\n",
       "        text-align: right;\n",
       "    }\n",
       "</style>\n",
       "<table border=\"1\" class=\"dataframe\">\n",
       "  <thead>\n",
       "    <tr style=\"text-align: right;\">\n",
       "      <th></th>\n",
       "      <th>Tweets</th>\n",
       "      <th>Label</th>\n",
       "      <th>Cleaned_Tweets</th>\n",
       "    </tr>\n",
       "  </thead>\n",
       "  <tbody>\n",
       "    <tr>\n",
       "      <th>0</th>\n",
       "      <td>Get fucking real dude.</td>\n",
       "      <td>1</td>\n",
       "      <td>Get fucking real dude</td>\n",
       "    </tr>\n",
       "    <tr>\n",
       "      <th>1</th>\n",
       "      <td>She is as dirty as they come  and that crook ...</td>\n",
       "      <td>1</td>\n",
       "      <td>She is as dirty as they come  and that crook ...</td>\n",
       "    </tr>\n",
       "    <tr>\n",
       "      <th>2</th>\n",
       "      <td>why did you fuck it up. I could do it all day...</td>\n",
       "      <td>1</td>\n",
       "      <td>why did you fuck it up I could do it all day ...</td>\n",
       "    </tr>\n",
       "    <tr>\n",
       "      <th>3</th>\n",
       "      <td>Dude they dont finish enclosing the fucking s...</td>\n",
       "      <td>1</td>\n",
       "      <td>Dude they dont finish enclosing the fucking s...</td>\n",
       "    </tr>\n",
       "    <tr>\n",
       "      <th>4</th>\n",
       "      <td>WTF are you talking about Men? No men thats n...</td>\n",
       "      <td>1</td>\n",
       "      <td>WTF are you talking about Men No men thats no...</td>\n",
       "    </tr>\n",
       "  </tbody>\n",
       "</table>\n",
       "</div>"
      ],
      "text/plain": [
       "                                              Tweets  Label  \\\n",
       "0                             Get fucking real dude.      1   \n",
       "1   She is as dirty as they come  and that crook ...      1   \n",
       "2   why did you fuck it up. I could do it all day...      1   \n",
       "3   Dude they dont finish enclosing the fucking s...      1   \n",
       "4   WTF are you talking about Men? No men thats n...      1   \n",
       "\n",
       "                                      Cleaned_Tweets  \n",
       "0                              Get fucking real dude  \n",
       "1   She is as dirty as they come  and that crook ...  \n",
       "2   why did you fuck it up I could do it all day ...  \n",
       "3   Dude they dont finish enclosing the fucking s...  \n",
       "4   WTF are you talking about Men No men thats no...  "
      ]
     },
     "execution_count": 7,
     "metadata": {},
     "output_type": "execute_result"
    }
   ],
   "source": [
    "import re\n",
    "import string\n",
    "def remove_punct(text):\n",
    "    text_nopunct = ''\n",
    "    text_nopunct = re.sub('['+string.punctuation+']', '', str(text))\n",
    "    return text_nopunct\n",
    "file['Cleaned_Tweets'] = file['Tweets'].apply(lambda x: remove_punct(x))\n",
    "file.head()"
   ]
  },
  {
   "cell_type": "code",
   "execution_count": 8,
   "id": "ac1b8633",
   "metadata": {},
   "outputs": [],
   "source": [
    "from nltk import word_tokenize"
   ]
  },
  {
   "cell_type": "code",
   "execution_count": 9,
   "id": "914c1d9c",
   "metadata": {
    "scrolled": true
   },
   "outputs": [
    {
     "data": {
      "text/plain": [
       "0                               [Get, fucking, real, dude]\n",
       "1        [She, is, as, dirty, as, they, come, and, that...\n",
       "2        [why, did, you, fuck, it, up, I, could, do, it...\n",
       "3        [Dude, they, dont, finish, enclosing, the, fuc...\n",
       "4        [WTF, are, you, talking, about, Men, No, men, ...\n",
       "                               ...                        \n",
       "19995    [I, dont, But, what, is, complaining, about, i...\n",
       "19996    [Bahah, yeah, im, totally, just, gon, na, get,...\n",
       "19997        [hahahahaha, im, evil, mwahahahahahahahahaha]\n",
       "19998              [Whats, something, unique, about, Ohio]\n",
       "19999         [Who, is, the, biggest, gossiper, you, know]\n",
       "Name: Cleaned_Tweets, Length: 20000, dtype: object"
      ]
     },
     "execution_count": 9,
     "metadata": {},
     "output_type": "execute_result"
    }
   ],
   "source": [
    "tokens = file['Cleaned_Tweets'].map(word_tokenize)\n",
    "file['Tokenized'] = [' '.join(t) for t in tokens]\n",
    "tokens"
   ]
  },
  {
   "cell_type": "code",
   "execution_count": 10,
   "id": "9c4dacb5",
   "metadata": {},
   "outputs": [
    {
     "data": {
      "text/html": [
       "<div>\n",
       "<style scoped>\n",
       "    .dataframe tbody tr th:only-of-type {\n",
       "        vertical-align: middle;\n",
       "    }\n",
       "\n",
       "    .dataframe tbody tr th {\n",
       "        vertical-align: top;\n",
       "    }\n",
       "\n",
       "    .dataframe thead th {\n",
       "        text-align: right;\n",
       "    }\n",
       "</style>\n",
       "<table border=\"1\" class=\"dataframe\">\n",
       "  <thead>\n",
       "    <tr style=\"text-align: right;\">\n",
       "      <th></th>\n",
       "      <th>Tweets</th>\n",
       "      <th>Label</th>\n",
       "      <th>Cleaned_Tweets</th>\n",
       "      <th>Tokenized</th>\n",
       "      <th>tokens_lowered</th>\n",
       "    </tr>\n",
       "  </thead>\n",
       "  <tbody>\n",
       "    <tr>\n",
       "      <th>0</th>\n",
       "      <td>Get fucking real dude.</td>\n",
       "      <td>1</td>\n",
       "      <td>Get fucking real dude</td>\n",
       "      <td>Get fucking real dude</td>\n",
       "      <td>[get, fucking, real, dude]</td>\n",
       "    </tr>\n",
       "    <tr>\n",
       "      <th>1</th>\n",
       "      <td>She is as dirty as they come  and that crook ...</td>\n",
       "      <td>1</td>\n",
       "      <td>She is as dirty as they come  and that crook ...</td>\n",
       "      <td>She is as dirty as they come and that crook Re...</td>\n",
       "      <td>[she, is, as, dirty, as, they, come, and, that...</td>\n",
       "    </tr>\n",
       "    <tr>\n",
       "      <th>2</th>\n",
       "      <td>why did you fuck it up. I could do it all day...</td>\n",
       "      <td>1</td>\n",
       "      <td>why did you fuck it up I could do it all day ...</td>\n",
       "      <td>why did you fuck it up I could do it all day t...</td>\n",
       "      <td>[why, did, you, fuck, it, up, i, could, do, it...</td>\n",
       "    </tr>\n",
       "    <tr>\n",
       "      <th>3</th>\n",
       "      <td>Dude they dont finish enclosing the fucking s...</td>\n",
       "      <td>1</td>\n",
       "      <td>Dude they dont finish enclosing the fucking s...</td>\n",
       "      <td>Dude they dont finish enclosing the fucking sh...</td>\n",
       "      <td>[dude, they, dont, finish, enclosing, the, fuc...</td>\n",
       "    </tr>\n",
       "    <tr>\n",
       "      <th>4</th>\n",
       "      <td>WTF are you talking about Men? No men thats n...</td>\n",
       "      <td>1</td>\n",
       "      <td>WTF are you talking about Men No men thats no...</td>\n",
       "      <td>WTF are you talking about Men No men thats not...</td>\n",
       "      <td>[wtf, are, you, talking, about, men, no, men, ...</td>\n",
       "    </tr>\n",
       "  </tbody>\n",
       "</table>\n",
       "</div>"
      ],
      "text/plain": [
       "                                              Tweets  Label  \\\n",
       "0                             Get fucking real dude.      1   \n",
       "1   She is as dirty as they come  and that crook ...      1   \n",
       "2   why did you fuck it up. I could do it all day...      1   \n",
       "3   Dude they dont finish enclosing the fucking s...      1   \n",
       "4   WTF are you talking about Men? No men thats n...      1   \n",
       "\n",
       "                                      Cleaned_Tweets  \\\n",
       "0                              Get fucking real dude   \n",
       "1   She is as dirty as they come  and that crook ...   \n",
       "2   why did you fuck it up I could do it all day ...   \n",
       "3   Dude they dont finish enclosing the fucking s...   \n",
       "4   WTF are you talking about Men No men thats no...   \n",
       "\n",
       "                                           Tokenized  \\\n",
       "0                              Get fucking real dude   \n",
       "1  She is as dirty as they come and that crook Re...   \n",
       "2  why did you fuck it up I could do it all day t...   \n",
       "3  Dude they dont finish enclosing the fucking sh...   \n",
       "4  WTF are you talking about Men No men thats not...   \n",
       "\n",
       "                                      tokens_lowered  \n",
       "0                         [get, fucking, real, dude]  \n",
       "1  [she, is, as, dirty, as, they, come, and, that...  \n",
       "2  [why, did, you, fuck, it, up, i, could, do, it...  \n",
       "3  [dude, they, dont, finish, enclosing, the, fuc...  \n",
       "4  [wtf, are, you, talking, about, men, no, men, ...  "
      ]
     },
     "execution_count": 10,
     "metadata": {},
     "output_type": "execute_result"
    }
   ],
   "source": [
    "def lower_token(tokens): \n",
    "    return [word.lower() for word in tokens]    \n",
    "    \n",
    "tokens_lowered=[lower_token(t) for t in tokens]\n",
    "file['tokens_lowered']=tokens_lowered\n",
    "file.head()"
   ]
  },
  {
   "cell_type": "code",
   "execution_count": 11,
   "id": "1f554fe8",
   "metadata": {},
   "outputs": [
    {
     "data": {
      "text/html": [
       "<div>\n",
       "<style scoped>\n",
       "    .dataframe tbody tr th:only-of-type {\n",
       "        vertical-align: middle;\n",
       "    }\n",
       "\n",
       "    .dataframe tbody tr th {\n",
       "        vertical-align: top;\n",
       "    }\n",
       "\n",
       "    .dataframe thead th {\n",
       "        text-align: right;\n",
       "    }\n",
       "</style>\n",
       "<table border=\"1\" class=\"dataframe\">\n",
       "  <thead>\n",
       "    <tr style=\"text-align: right;\">\n",
       "      <th></th>\n",
       "      <th>Tweets</th>\n",
       "      <th>Label</th>\n",
       "      <th>Cleaned_Tweets</th>\n",
       "      <th>Tokenized</th>\n",
       "      <th>tokens_lowered</th>\n",
       "      <th>Text_Final</th>\n",
       "      <th>Filtered_words</th>\n",
       "    </tr>\n",
       "  </thead>\n",
       "  <tbody>\n",
       "    <tr>\n",
       "      <th>0</th>\n",
       "      <td>Get fucking real dude.</td>\n",
       "      <td>1</td>\n",
       "      <td>Get fucking real dude</td>\n",
       "      <td>Get fucking real dude</td>\n",
       "      <td>[get, fucking, real, dude]</td>\n",
       "      <td>get fucking real dude</td>\n",
       "      <td>[get, fucking, real, dude]</td>\n",
       "    </tr>\n",
       "    <tr>\n",
       "      <th>1</th>\n",
       "      <td>She is as dirty as they come  and that crook ...</td>\n",
       "      <td>1</td>\n",
       "      <td>She is as dirty as they come  and that crook ...</td>\n",
       "      <td>She is as dirty as they come and that crook Re...</td>\n",
       "      <td>[she, is, as, dirty, as, they, come, and, that...</td>\n",
       "      <td>dirty come crook rengel dems fucking corrupt j...</td>\n",
       "      <td>[dirty, come, crook, rengel, dems, fucking, co...</td>\n",
       "    </tr>\n",
       "    <tr>\n",
       "      <th>2</th>\n",
       "      <td>why did you fuck it up. I could do it all day...</td>\n",
       "      <td>1</td>\n",
       "      <td>why did you fuck it up I could do it all day ...</td>\n",
       "      <td>why did you fuck it up I could do it all day t...</td>\n",
       "      <td>[why, did, you, fuck, it, up, i, could, do, it...</td>\n",
       "      <td>fuck could day lets hour ping later sched writ...</td>\n",
       "      <td>[fuck, could, day, lets, hour, ping, later, sc...</td>\n",
       "    </tr>\n",
       "    <tr>\n",
       "      <th>3</th>\n",
       "      <td>Dude they dont finish enclosing the fucking s...</td>\n",
       "      <td>1</td>\n",
       "      <td>Dude they dont finish enclosing the fucking s...</td>\n",
       "      <td>Dude they dont finish enclosing the fucking sh...</td>\n",
       "      <td>[dude, they, dont, finish, enclosing, the, fuc...</td>\n",
       "      <td>dude dont finish enclosing fucking showers hat...</td>\n",
       "      <td>[dude, dont, finish, enclosing, fucking, showe...</td>\n",
       "    </tr>\n",
       "    <tr>\n",
       "      <th>4</th>\n",
       "      <td>WTF are you talking about Men? No men thats n...</td>\n",
       "      <td>1</td>\n",
       "      <td>WTF are you talking about Men No men thats no...</td>\n",
       "      <td>WTF are you talking about Men No men thats not...</td>\n",
       "      <td>[wtf, are, you, talking, about, men, no, men, ...</td>\n",
       "      <td>wtf talking men men thats menage thats gay</td>\n",
       "      <td>[wtf, talking, men, men, thats, menage, thats,...</td>\n",
       "    </tr>\n",
       "    <tr>\n",
       "      <th>5</th>\n",
       "      <td>Ill save you the trouble sister. Here comes a ...</td>\n",
       "      <td>1</td>\n",
       "      <td>Ill save you the trouble sister Here comes a b...</td>\n",
       "      <td>Ill save you the trouble sister Here comes a b...</td>\n",
       "      <td>[ill, save, you, the, trouble, sister, here, c...</td>\n",
       "      <td>ill save trouble sister comes big ol fuck fran...</td>\n",
       "      <td>[ill, save, trouble, sister, comes, big, ol, f...</td>\n",
       "    </tr>\n",
       "    <tr>\n",
       "      <th>6</th>\n",
       "      <td>Im dead serious.Real athletes never cheat don...</td>\n",
       "      <td>1</td>\n",
       "      <td>Im dead seriousReal athletes never cheat dont...</td>\n",
       "      <td>Im dead seriousReal athletes never cheat dont ...</td>\n",
       "      <td>[im, dead, seriousreal, athletes, never, cheat...</td>\n",
       "      <td>im dead seriousreal athletes never cheat dont ...</td>\n",
       "      <td>[im, dead, seriousreal, athletes, never, cheat...</td>\n",
       "    </tr>\n",
       "    <tr>\n",
       "      <th>7</th>\n",
       "      <td>...go absolutely insane.hate to be the bearer ...</td>\n",
       "      <td>1</td>\n",
       "      <td>go absolutely insanehate to be the bearer of b...</td>\n",
       "      <td>go absolutely insanehate to be the bearer of b...</td>\n",
       "      <td>[go, absolutely, insanehate, to, be, the, bear...</td>\n",
       "      <td>go absolutely insanehate bearer bad newsloldon...</td>\n",
       "      <td>[go, absolutely, insanehate, bearer, bad, news...</td>\n",
       "    </tr>\n",
       "  </tbody>\n",
       "</table>\n",
       "</div>"
      ],
      "text/plain": [
       "                                              Tweets  Label  \\\n",
       "0                             Get fucking real dude.      1   \n",
       "1   She is as dirty as they come  and that crook ...      1   \n",
       "2   why did you fuck it up. I could do it all day...      1   \n",
       "3   Dude they dont finish enclosing the fucking s...      1   \n",
       "4   WTF are you talking about Men? No men thats n...      1   \n",
       "5  Ill save you the trouble sister. Here comes a ...      1   \n",
       "6   Im dead serious.Real athletes never cheat don...      1   \n",
       "7  ...go absolutely insane.hate to be the bearer ...      1   \n",
       "\n",
       "                                      Cleaned_Tweets  \\\n",
       "0                              Get fucking real dude   \n",
       "1   She is as dirty as they come  and that crook ...   \n",
       "2   why did you fuck it up I could do it all day ...   \n",
       "3   Dude they dont finish enclosing the fucking s...   \n",
       "4   WTF are you talking about Men No men thats no...   \n",
       "5  Ill save you the trouble sister Here comes a b...   \n",
       "6   Im dead seriousReal athletes never cheat dont...   \n",
       "7  go absolutely insanehate to be the bearer of b...   \n",
       "\n",
       "                                           Tokenized  \\\n",
       "0                              Get fucking real dude   \n",
       "1  She is as dirty as they come and that crook Re...   \n",
       "2  why did you fuck it up I could do it all day t...   \n",
       "3  Dude they dont finish enclosing the fucking sh...   \n",
       "4  WTF are you talking about Men No men thats not...   \n",
       "5  Ill save you the trouble sister Here comes a b...   \n",
       "6  Im dead seriousReal athletes never cheat dont ...   \n",
       "7  go absolutely insanehate to be the bearer of b...   \n",
       "\n",
       "                                      tokens_lowered  \\\n",
       "0                         [get, fucking, real, dude]   \n",
       "1  [she, is, as, dirty, as, they, come, and, that...   \n",
       "2  [why, did, you, fuck, it, up, i, could, do, it...   \n",
       "3  [dude, they, dont, finish, enclosing, the, fuc...   \n",
       "4  [wtf, are, you, talking, about, men, no, men, ...   \n",
       "5  [ill, save, you, the, trouble, sister, here, c...   \n",
       "6  [im, dead, seriousreal, athletes, never, cheat...   \n",
       "7  [go, absolutely, insanehate, to, be, the, bear...   \n",
       "\n",
       "                                          Text_Final  \\\n",
       "0                              get fucking real dude   \n",
       "1  dirty come crook rengel dems fucking corrupt j...   \n",
       "2  fuck could day lets hour ping later sched writ...   \n",
       "3  dude dont finish enclosing fucking showers hat...   \n",
       "4         wtf talking men men thats menage thats gay   \n",
       "5  ill save trouble sister comes big ol fuck fran...   \n",
       "6  im dead seriousreal athletes never cheat dont ...   \n",
       "7  go absolutely insanehate bearer bad newsloldon...   \n",
       "\n",
       "                                      Filtered_words  \n",
       "0                         [get, fucking, real, dude]  \n",
       "1  [dirty, come, crook, rengel, dems, fucking, co...  \n",
       "2  [fuck, could, day, lets, hour, ping, later, sc...  \n",
       "3  [dude, dont, finish, enclosing, fucking, showe...  \n",
       "4  [wtf, talking, men, men, thats, menage, thats,...  \n",
       "5  [ill, save, trouble, sister, comes, big, ol, f...  \n",
       "6  [im, dead, seriousreal, athletes, never, cheat...  \n",
       "7  [go, absolutely, insanehate, bearer, bad, news...  "
      ]
     },
     "execution_count": 11,
     "metadata": {},
     "output_type": "execute_result"
    }
   ],
   "source": [
    "from nltk.corpus import stopwords\n",
    "\n",
    "stoplist=stopwords.words('english')\n",
    "def removeStopWords(tokens): \n",
    "    return [w for w in tokens if w not in stoplist]\n",
    "def removenumeric(tokens):\n",
    "    return [w for w in tokens if not w.isdigit()]\n",
    "filtered_words=[removeStopWords(t) for t in tokens_lowered]\n",
    "filtered_words=[removenumeric(t) for t in filtered_words]\n",
    "file['Text_Final'] = [' '.join(t) for t in filtered_words]\n",
    "file['Filtered_words'] = filtered_words\n",
    "file.head(8)"
   ]
  },
  {
   "cell_type": "code",
   "execution_count": 12,
   "id": "2c730989",
   "metadata": {},
   "outputs": [],
   "source": [
    "file.to_csv('preprocessing.csv')"
   ]
  },
  {
   "cell_type": "code",
   "execution_count": 13,
   "id": "75de9e57",
   "metadata": {},
   "outputs": [
    {
     "name": "stdout",
     "output_type": "stream",
     "text": [
      "Max sentence length in train is 667\n",
      "Max sentence length in test is 904\n"
     ]
    }
   ],
   "source": [
    "from sklearn.model_selection import train_test_split\n",
    "xtrain, xtest, ytrain, ytest = train_test_split(file['Text_Final'], file['Label'], shuffle=True, test_size=0.2)\n",
    "\n",
    "# find the length of the largest sentence in training data\n",
    "training_sentence_lengths = [len(tokens) for tokens in xtrain]\n",
    "print(\"Max sentence length in train is %s\" % max(training_sentence_lengths))\n",
    "max_len=max(training_sentence_lengths)\n",
    "# find the length of the largest sentence in testing data\n",
    "test_sentence_lengths = [len(tokens) for tokens in xtest]\n",
    "print(\"Max sentence length in test is %s\" % max(test_sentence_lengths))"
   ]
  },
  {
   "cell_type": "code",
   "execution_count": 14,
   "id": "2ac326c2",
   "metadata": {},
   "outputs": [
    {
     "data": {
      "text/plain": [
       "89"
      ]
     },
     "execution_count": 14,
     "metadata": {},
     "output_type": "execute_result"
    }
   ],
   "source": [
    "from tensorflow.keras.preprocessing import text, sequence \n",
    "\n",
    "max_words = 10000\n",
    "tokenizer = text.Tokenizer(num_words = max_words)\n",
    "\n",
    "# create the vocabulary by fitting on x_train text\n",
    "tokenizer.fit_on_texts(xtrain)\n",
    "# generate the sequence of tokens\n",
    "xtrain_seq = tokenizer.texts_to_sequences(xtrain)\n",
    "xtest_seq = tokenizer.texts_to_sequences(xtest)\n",
    "\n",
    "# pad the sequences\n",
    "xtrain_pad = sequence.pad_sequences(xtrain_seq)\n",
    "xtest_pad = sequence.pad_sequences(xtest_seq)\n",
    "word_index = tokenizer.word_index\n",
    "len(xtrain_pad[6])#len=142"
   ]
  },
  {
   "cell_type": "code",
   "execution_count": 15,
   "id": "662bec21",
   "metadata": {},
   "outputs": [],
   "source": [
    "#load the Glove Vectors\n",
    "embedding_vectors = {}\n",
    "with open('glove.twitter.27B.100d.txt','r',encoding='utf-8') as glove_file:\n",
    "    for row in glove_file:\n",
    "        values = row.split(' ')\n",
    "        word = values[0]\n",
    "        weights = np.asarray([float(val) for val in values[1:]])\n",
    "        embedding_vectors[word] = weights\n",
    "#print(f\"Size of vocabulary in GloVe: {len(embedding_vectors)}\")   \n",
    "#len(embedding_vectors)"
   ]
  },
  {
   "cell_type": "code",
   "execution_count": 16,
   "id": "a3823250",
   "metadata": {},
   "outputs": [
    {
     "name": "stdout",
     "output_type": "stream",
     "text": [
      "['lt3', '2day', 'nahhh', '2nd', 'kjfuck', 'ampamp', 'gtlt', '1st', '3rd', 'b4', 'ummmm', 'ohhhh', '2b', 'y0', 'youaposre', '70s', 'm3', 'ps3', 'favrd', '80s', 'httptwitpiccomt9za', 'niggau', 'whittingtons', 'twitpanto', 'str8', 'locascio', 'youuu', 'jewboy', '2night', 'hmmmi', 'myzou', 'xentury', 'sucksi', 'myspacecomtabiisaninja', '5am', 'heyyy', 'booo', '4am', 'some1', 'quoti', '7th', 'blahhh', 'designdoll', 'whooo', 'youuuuuuu', '4got', '3r', 'jfish', '17th', 'yeahhh']\n"
     ]
    }
   ],
   "source": [
    "emb_dim = 100\n",
    "if max_words is not None: \n",
    "    vocab_len = max_words \n",
    "else:\n",
    "    vocab_len = len(word_index)+1\n",
    "embedding_matrix = np.zeros((vocab_len, emb_dim))\n",
    "oov_words = []\n",
    "for word, idx in word_index.items():\n",
    "    if idx < vocab_len:\n",
    "        embedding_vector = embedding_vectors.get(word)\n",
    "        if embedding_vector is not None:\n",
    "            embedding_matrix[idx] = embedding_vector\n",
    "        else:\n",
    "            oov_words.append(word)\n",
    "#print some of the out of vocabulary words\n",
    "print(oov_words[0:50])"
   ]
  },
  {
   "cell_type": "code",
   "execution_count": 17,
   "id": "0e118a80",
   "metadata": {},
   "outputs": [
    {
     "data": {
      "text/plain": [
       "array([ 1.8435e-01,  3.4638e-01,  3.6504e-01,  6.0354e-01, -2.2940e-01,\n",
       "       -1.0155e-01,  4.6474e-01,  2.8357e-01,  1.9533e-01,  6.3805e-01,\n",
       "       -2.2669e-02,  2.1714e-01, -4.4768e+00, -2.5935e-01,  6.7712e-01,\n",
       "       -4.0085e-02, -8.9188e-04, -3.3866e-01, -4.4386e-01, -5.1624e-01,\n",
       "       -2.7588e-01,  2.2449e-01,  5.8658e-03, -8.5680e-02,  6.8822e-01,\n",
       "        4.4768e-02, -4.4996e-01, -2.4830e-01, -2.6020e-01, -3.5478e-01,\n",
       "       -9.5430e-01, -2.3096e-01, -4.5752e-02,  9.0701e-02, -6.2813e-01,\n",
       "        5.6478e-01, -4.2195e-01,  3.6337e-01,  1.5341e-01,  1.0405e-01,\n",
       "       -1.1739e+00,  1.0603e-01, -2.6939e-01, -1.8659e-01, -1.3978e-01,\n",
       "        7.7009e-02,  6.1475e-01,  5.2478e-01,  4.0327e-01,  7.7527e-01,\n",
       "       -4.6076e-01,  3.6190e-01, -2.5888e-01, -1.0429e-01,  1.9468e-01,\n",
       "        2.4984e-01, -7.2952e-01, -1.3537e-01,  4.9564e-01, -1.4137e-01,\n",
       "       -1.5075e-01, -2.2521e-01,  3.6637e-01, -1.9326e-01, -1.5961e-01,\n",
       "       -2.6602e-01, -2.4458e-01, -2.2380e-02,  1.2608e-01,  2.0559e-01,\n",
       "        1.2733e-01,  7.2176e-01,  5.0610e-02, -1.5285e-01, -4.2749e-01,\n",
       "        3.4278e-02,  4.1792e-01, -3.8507e-02,  8.5392e-02,  1.4612e-01,\n",
       "        1.9571e+00,  1.9714e-02, -5.1073e-01, -7.6858e-01, -4.5990e-01,\n",
       "        2.0151e-01, -2.6207e-01, -3.8744e-01, -3.7503e-01, -1.7158e-01,\n",
       "       -1.7789e-01,  9.9983e-02, -1.9365e-02,  1.4310e-01,  2.3853e-01,\n",
       "        7.6340e-01, -4.3485e-01,  4.3300e-01,  3.1190e-01,  3.5100e-01])"
      ]
     },
     "execution_count": 17,
     "metadata": {},
     "output_type": "execute_result"
    }
   ],
   "source": [
    "embedding_matrix[2]"
   ]
  },
  {
   "cell_type": "code",
   "execution_count": 18,
   "id": "54b40548",
   "metadata": {},
   "outputs": [
    {
     "name": "stdout",
     "output_type": "stream",
     "text": [
      "Model: \"sequential\"\n",
      "_________________________________________________________________\n",
      "Layer (type)                 Output Shape              Param #   \n",
      "=================================================================\n",
      "embedding (Embedding)        (None, None, 100)         1000000   \n",
      "_________________________________________________________________\n",
      "lstm (LSTM)                  (None, None, 128)         117248    \n",
      "_________________________________________________________________\n",
      "dropout (Dropout)            (None, None, 128)         0         \n",
      "_________________________________________________________________\n",
      "lstm_1 (LSTM)                (None, None, 64)          49408     \n",
      "_________________________________________________________________\n",
      "dropout_1 (Dropout)          (None, None, 64)          0         \n",
      "_________________________________________________________________\n",
      "lstm_2 (LSTM)                (None, None, 32)          12416     \n",
      "_________________________________________________________________\n",
      "dropout_2 (Dropout)          (None, None, 32)          0         \n",
      "_________________________________________________________________\n",
      "lstm_3 (LSTM)                (None, 16)                3136      \n",
      "_________________________________________________________________\n",
      "dropout_3 (Dropout)          (None, 16)                0         \n",
      "_________________________________________________________________\n",
      "dense (Dense)                (None, 32)                544       \n",
      "_________________________________________________________________\n",
      "dropout_4 (Dropout)          (None, 32)                0         \n",
      "_________________________________________________________________\n",
      "dense_1 (Dense)              (None, 1)                 33        \n",
      "=================================================================\n",
      "Total params: 1,182,785\n",
      "Trainable params: 182,785\n",
      "Non-trainable params: 1,000,000\n",
      "_________________________________________________________________\n",
      "None\n"
     ]
    }
   ],
   "source": [
    "#model LSTM\n",
    "from tensorflow.keras.layers import LSTM, GRU, Dense, Embedding, Dropout\n",
    "from tensorflow.keras.models import Sequential\n",
    "\n",
    "lstm_model = Sequential()\n",
    "lstm_model.add(Embedding(vocab_len, emb_dim, trainable = False, weights=[embedding_matrix]))\n",
    "lstm_model.add(LSTM(128, return_sequences=True))\n",
    "lstm_model.add(Dropout(0.2))\n",
    "lstm_model.add(LSTM(64, return_sequences=True))\n",
    "lstm_model.add(Dropout(0.2))\n",
    "lstm_model.add(LSTM(32, return_sequences=True))\n",
    "lstm_model.add(Dropout(0.2))\n",
    "lstm_model.add(LSTM(16, return_sequences=False))\n",
    "lstm_model.add(Dropout(0.2))\n",
    "lstm_model.add(Dense(32, activation='relu'))\n",
    "lstm_model.add(Dropout(0.1))\n",
    "lstm_model.add(Dense(1, activation = 'sigmoid'))\n",
    "lstm_model.compile(loss='binary_crossentropy', optimizer='adam', metrics=['accuracy'])\n",
    "print(lstm_model.summary())"
   ]
  },
  {
   "cell_type": "code",
   "execution_count": 19,
   "id": "ffcb27a1",
   "metadata": {},
   "outputs": [
    {
     "name": "stdout",
     "output_type": "stream",
     "text": [
      "Epoch 1/10\n",
      "250/250 [==============================] - 45s 166ms/step - loss: 0.5925 - accuracy: 0.6676 - val_loss: 0.5086 - val_accuracy: 0.7240\n",
      "Epoch 2/10\n",
      "250/250 [==============================] - 38s 153ms/step - loss: 0.4985 - accuracy: 0.7414 - val_loss: 0.4852 - val_accuracy: 0.7505\n",
      "Epoch 3/10\n",
      "250/250 [==============================] - 39s 155ms/step - loss: 0.4730 - accuracy: 0.7657 - val_loss: 0.4771 - val_accuracy: 0.7540\n",
      "Epoch 4/10\n",
      "250/250 [==============================] - 38s 152ms/step - loss: 0.4443 - accuracy: 0.7872 - val_loss: 0.4546 - val_accuracy: 0.7645\n",
      "Epoch 5/10\n",
      "250/250 [==============================] - 38s 151ms/step - loss: 0.4196 - accuracy: 0.8029 - val_loss: 0.4436 - val_accuracy: 0.7835\n",
      "Epoch 6/10\n",
      "250/250 [==============================] - 38s 151ms/step - loss: 0.3837 - accuracy: 0.8269 - val_loss: 0.4257 - val_accuracy: 0.7995\n",
      "Epoch 7/10\n",
      "250/250 [==============================] - 38s 150ms/step - loss: 0.3494 - accuracy: 0.8464 - val_loss: 0.4395 - val_accuracy: 0.8062\n",
      "Epoch 8/10\n",
      "250/250 [==============================] - 38s 150ms/step - loss: 0.3109 - accuracy: 0.8661 - val_loss: 0.4091 - val_accuracy: 0.8102\n",
      "Epoch 9/10\n",
      "250/250 [==============================] - 38s 153ms/step - loss: 0.2763 - accuracy: 0.8869 - val_loss: 0.3940 - val_accuracy: 0.8310\n",
      "Epoch 10/10\n",
      "250/250 [==============================] - 39s 156ms/step - loss: 0.2379 - accuracy: 0.9061 - val_loss: 0.3717 - val_accuracy: 0.8562\n"
     ]
    }
   ],
   "source": [
    "batch_size = 64\n",
    "epochs  = 10\n",
    "lstm = lstm_model.fit(xtrain_pad, ytrain, validation_data=(xtest_pad, ytest), batch_size = batch_size, epochs = epochs)"
   ]
  },
  {
   "cell_type": "code",
   "execution_count": 20,
   "id": "ed623ac8",
   "metadata": {},
   "outputs": [
    {
     "name": "stdout",
     "output_type": "stream",
     "text": [
      "Model: \"sequential_1\"\n",
      "_________________________________________________________________\n",
      "Layer (type)                 Output Shape              Param #   \n",
      "=================================================================\n",
      "embedding_1 (Embedding)      (None, None, 100)         1000000   \n",
      "_________________________________________________________________\n",
      "bidirectional (Bidirectional (None, None, 256)         234496    \n",
      "_________________________________________________________________\n",
      "dropout_5 (Dropout)          (None, None, 256)         0         \n",
      "_________________________________________________________________\n",
      "bidirectional_1 (Bidirection (None, None, 128)         164352    \n",
      "_________________________________________________________________\n",
      "dropout_6 (Dropout)          (None, None, 128)         0         \n",
      "_________________________________________________________________\n",
      "bidirectional_2 (Bidirection (None, None, 64)          41216     \n",
      "_________________________________________________________________\n",
      "dropout_7 (Dropout)          (None, None, 64)          0         \n",
      "_________________________________________________________________\n",
      "bidirectional_3 (Bidirection (None, 32)                10368     \n",
      "_________________________________________________________________\n",
      "dropout_8 (Dropout)          (None, 32)                0         \n",
      "_________________________________________________________________\n",
      "dense_2 (Dense)              (None, 32)                1056      \n",
      "_________________________________________________________________\n",
      "dropout_9 (Dropout)          (None, 32)                0         \n",
      "_________________________________________________________________\n",
      "dense_3 (Dense)              (None, 1)                 33        \n",
      "=================================================================\n",
      "Total params: 1,451,521\n",
      "Trainable params: 451,521\n",
      "Non-trainable params: 1,000,000\n",
      "_________________________________________________________________\n",
      "None\n"
     ]
    }
   ],
   "source": [
    "#model BLSTM\n",
    "from tensorflow.keras.layers import Bidirectional\n",
    "\n",
    "blstm_model=Sequential()\n",
    "blstm_model.add(Embedding(vocab_len, emb_dim, trainable = False, weights=[embedding_matrix]))\n",
    "blstm_model.add(Bidirectional(LSTM(128, return_sequences=True)))\n",
    "blstm_model.add(Dropout(0.2))\n",
    "blstm_model.add(Bidirectional(LSTM(64, return_sequences=True)))\n",
    "blstm_model.add(Dropout(0.2))\n",
    "blstm_model.add(Bidirectional(LSTM(32, return_sequences=True)))\n",
    "blstm_model.add(Dropout(0.2))\n",
    "blstm_model.add(Bidirectional(LSTM(16, return_sequences=False)))\n",
    "blstm_model.add(Dropout(0.2))\n",
    "blstm_model.add(Dense(32, activation='relu'))\n",
    "blstm_model.add(Dropout(0.1))\n",
    "blstm_model.add(Dense(1,activation='sigmoid'))\n",
    "blstm_model.compile(loss='binary_crossentropy', optimizer='adam', metrics=['accuracy'])\n",
    "print(blstm_model.summary())"
   ]
  },
  {
   "cell_type": "code",
   "execution_count": 24,
   "id": "598d2389",
   "metadata": {
    "scrolled": false
   },
   "outputs": [
    {
     "name": "stdout",
     "output_type": "stream",
     "text": [
      "Epoch 1/10\n",
      "250/250 [==============================] - 79s 316ms/step - loss: 0.2174 - accuracy: 0.9146 - val_loss: 0.3894 - val_accuracy: 0.8575\n",
      "Epoch 2/10\n",
      "250/250 [==============================] - 78s 314ms/step - loss: 0.1886 - accuracy: 0.9267 - val_loss: 0.3943 - val_accuracy: 0.8662\n",
      "Epoch 3/10\n",
      "250/250 [==============================] - 78s 313ms/step - loss: 0.1610 - accuracy: 0.9389 - val_loss: 0.4022 - val_accuracy: 0.8650\n",
      "Epoch 4/10\n",
      "250/250 [==============================] - 80s 319ms/step - loss: 0.1520 - accuracy: 0.9419 - val_loss: 0.3617 - val_accuracy: 0.8842\n",
      "Epoch 5/10\n",
      "250/250 [==============================] - 79s 318ms/step - loss: 0.1275 - accuracy: 0.9509 - val_loss: 0.4137 - val_accuracy: 0.8857\n",
      "Epoch 6/10\n",
      "250/250 [==============================] - 78s 312ms/step - loss: 0.1152 - accuracy: 0.9553 - val_loss: 0.3735 - val_accuracy: 0.8928\n",
      "Epoch 7/10\n",
      "250/250 [==============================] - 77s 306ms/step - loss: 0.1030 - accuracy: 0.9608 - val_loss: 0.4084 - val_accuracy: 0.8910\n",
      "Epoch 8/10\n",
      "250/250 [==============================] - 77s 307ms/step - loss: 0.0903 - accuracy: 0.9643 - val_loss: 0.4338 - val_accuracy: 0.8935\n",
      "Epoch 9/10\n",
      "250/250 [==============================] - 77s 306ms/step - loss: 0.0926 - accuracy: 0.9646 - val_loss: 0.4634 - val_accuracy: 0.8930\n",
      "Epoch 10/10\n",
      "250/250 [==============================] - 78s 311ms/step - loss: 0.0796 - accuracy: 0.9683 - val_loss: 0.5479 - val_accuracy: 0.8748\n"
     ]
    }
   ],
   "source": [
    "batch_size = 64\n",
    "epochs=10\n",
    "blstm=blstm_model.fit(xtrain_pad, ytrain, validation_data=(xtest_pad, ytest), batch_size = batch_size, epochs = epochs)"
   ]
  },
  {
   "cell_type": "code",
   "execution_count": 22,
   "id": "2c1f2c10",
   "metadata": {},
   "outputs": [
    {
     "name": "stdout",
     "output_type": "stream",
     "text": [
      "Model: \"sequential_2\"\n",
      "_________________________________________________________________\n",
      "Layer (type)                 Output Shape              Param #   \n",
      "=================================================================\n",
      "embedding_2 (Embedding)      (None, None, 100)         1000000   \n",
      "_________________________________________________________________\n",
      "gru (GRU)                    (None, None, 128)         88320     \n",
      "_________________________________________________________________\n",
      "dropout_10 (Dropout)         (None, None, 128)         0         \n",
      "_________________________________________________________________\n",
      "gru_1 (GRU)                  (None, None, 64)          37248     \n",
      "_________________________________________________________________\n",
      "dropout_11 (Dropout)         (None, None, 64)          0         \n",
      "_________________________________________________________________\n",
      "gru_2 (GRU)                  (None, None, 32)          9408      \n",
      "_________________________________________________________________\n",
      "dropout_12 (Dropout)         (None, None, 32)          0         \n",
      "_________________________________________________________________\n",
      "gru_3 (GRU)                  (None, 16)                2400      \n",
      "_________________________________________________________________\n",
      "dropout_13 (Dropout)         (None, 16)                0         \n",
      "_________________________________________________________________\n",
      "dense_4 (Dense)              (None, 32)                544       \n",
      "_________________________________________________________________\n",
      "dropout_14 (Dropout)         (None, 32)                0         \n",
      "_________________________________________________________________\n",
      "dense_5 (Dense)              (None, 1)                 33        \n",
      "=================================================================\n",
      "Total params: 1,137,953\n",
      "Trainable params: 137,953\n",
      "Non-trainable params: 1,000,000\n",
      "_________________________________________________________________\n",
      "None\n"
     ]
    }
   ],
   "source": [
    "emb_dim = embedding_matrix.shape[1]\n",
    "gru_model = Sequential()\n",
    "gru_model.add(Embedding(vocab_len, emb_dim, trainable = False, weights=[embedding_matrix]))\n",
    "gru_model.add(GRU(128, return_sequences=True))\n",
    "gru_model.add(Dropout(0.2))\n",
    "gru_model.add(GRU(64, return_sequences=True))\n",
    "gru_model.add(Dropout(0.2))\n",
    "gru_model.add(GRU(32, return_sequences=True))\n",
    "gru_model.add(Dropout(0.2))\n",
    "gru_model.add(GRU(16, return_sequences=False))\n",
    "gru_model.add(Dropout(0.2))\n",
    "gru_model.add(Dense(32, activation='relu'))\n",
    "gru_model.add(Dropout(0.1))\n",
    "gru_model.add(Dense(1, activation = 'sigmoid'))\n",
    "gru_model.compile(loss='binary_crossentropy', optimizer='adam', metrics=['accuracy'])\n",
    "print(gru_model.summary())"
   ]
  },
  {
   "cell_type": "code",
   "execution_count": 23,
   "id": "288024ac",
   "metadata": {
    "scrolled": false
   },
   "outputs": [
    {
     "name": "stdout",
     "output_type": "stream",
     "text": [
      "Epoch 1/10\n",
      "250/250 [==============================] - 39s 143ms/step - loss: 0.5569 - accuracy: 0.6960 - val_loss: 0.4996 - val_accuracy: 0.7315\n",
      "Epoch 2/10\n",
      "250/250 [==============================] - 34s 138ms/step - loss: 0.4927 - accuracy: 0.7480 - val_loss: 0.4866 - val_accuracy: 0.7552\n",
      "Epoch 3/10\n",
      "250/250 [==============================] - 35s 141ms/step - loss: 0.4668 - accuracy: 0.7699 - val_loss: 0.4735 - val_accuracy: 0.7565\n",
      "Epoch 4/10\n",
      "250/250 [==============================] - 37s 148ms/step - loss: 0.4476 - accuracy: 0.7804 - val_loss: 0.4551 - val_accuracy: 0.7747\n",
      "Epoch 5/10\n",
      "250/250 [==============================] - 36s 145ms/step - loss: 0.4210 - accuracy: 0.8007 - val_loss: 0.4450 - val_accuracy: 0.7750\n",
      "Epoch 6/10\n",
      "250/250 [==============================] - 37s 146ms/step - loss: 0.3917 - accuracy: 0.8242 - val_loss: 0.4296 - val_accuracy: 0.7855\n",
      "Epoch 7/10\n",
      "250/250 [==============================] - 39s 157ms/step - loss: 0.3531 - accuracy: 0.8484 - val_loss: 0.4007 - val_accuracy: 0.8250\n",
      "Epoch 8/10\n",
      "250/250 [==============================] - 37s 146ms/step - loss: 0.3086 - accuracy: 0.8699 - val_loss: 0.3968 - val_accuracy: 0.8298\n",
      "Epoch 9/10\n",
      "250/250 [==============================] - 36s 143ms/step - loss: 0.2637 - accuracy: 0.8942 - val_loss: 0.4194 - val_accuracy: 0.8223\n",
      "Epoch 10/10\n",
      "250/250 [==============================] - 36s 142ms/step - loss: 0.2308 - accuracy: 0.9127 - val_loss: 0.3883 - val_accuracy: 0.8487\n"
     ]
    }
   ],
   "source": [
    "batch_size = 64\n",
    "epochs=10\n",
    "history_gru=gru_model.fit(xtrain_pad, ytrain, validation_data=(xtest_pad, ytest), batch_size = batch_size, epochs = epochs)"
   ]
  },
  {
   "cell_type": "code",
   "execution_count": 100,
   "id": "4af71e3b",
   "metadata": {},
   "outputs": [
    {
     "data": {
      "text/plain": [
       "array([[0.62736666],\n",
       "       [0.15767515]], dtype=float32)"
      ]
     },
     "execution_count": 100,
     "metadata": {},
     "output_type": "execute_result"
    }
   ],
   "source": [
    "def Predict(predict_text):\n",
    "    predict_text=remove_punct(predict_text)\n",
    "    predict_text=word_tokenize(predict_text)\n",
    "    predict_text=lower_token(predict_text)\n",
    "    predict_text=removeStopWords(predict_text) \n",
    "    predict_text=removenumeric(predict_text)\n",
    "    predict_text=tokenizer.texts_to_sequences(predict_text)\n",
    "    predict_text=sequence.pad_sequences(predict_text)\n",
    "    return predict_text\n",
    "text_to_predict='Fuck Humanity'\n",
    "predict_text=Predict([text_to_predict])\n",
    "blstm_model.predict(predict_text)"
   ]
  },
  {
   "cell_type": "code",
   "execution_count": 25,
   "id": "3ce84cff",
   "metadata": {},
   "outputs": [
    {
     "name": "stdout",
     "output_type": "stream",
     "text": [
      "Train accuracy: 93.43\n",
      "Test accuracy: 85.62\n"
     ]
    }
   ],
   "source": [
    "train_lstm_results=lstm_model.evaluate(xtrain_pad, ytrain, verbose=0, batch_size=64)\n",
    "test_lstm_results = lstm_model.evaluate(xtest_pad, ytest, verbose=0, batch_size=64)\n",
    "print(f'Train accuracy: {train_lstm_results[1]*100:0.2f}')\n",
    "print(f'Test accuracy: {test_lstm_results[1]*100:0.2f}')"
   ]
  },
  {
   "cell_type": "code",
   "execution_count": 26,
   "id": "7d42f76d",
   "metadata": {
    "scrolled": true
   },
   "outputs": [
    {
     "name": "stdout",
     "output_type": "stream",
     "text": [
      "Train accuracy: 97.28\n",
      "Test accuracy: 87.48\n"
     ]
    }
   ],
   "source": [
    "train_blstm_results=blstm_model.evaluate(xtrain_pad, ytrain, verbose=0, batch_size=64)\n",
    "test_blstm_results=blstm_model.evaluate(xtest_pad, ytest, verbose=0, batch_size=64)\n",
    "print(f'Train accuracy: {train_blstm_results[1]*100:0.2f}')\n",
    "print(f'Test accuracy: {test_blstm_results[1]*100:0.2f}')"
   ]
  },
  {
   "cell_type": "code",
   "execution_count": 36,
   "id": "9460d9f2",
   "metadata": {},
   "outputs": [
    {
     "data": {
      "text/plain": [
       "Text(0.5, 1.0, 'Accuracy')"
      ]
     },
     "execution_count": 36,
     "metadata": {},
     "output_type": "execute_result"
    },
    {
     "data": {
      "image/png": "[encoded data removed]",
      "text/plain": [
       "<Figure size 1080x504 with 1 Axes>"
      ]
     },
     "metadata": {
      "needs_background": "light"
     },
     "output_type": "display_data"
    }
   ],
   "source": [
    "#plot accuracy for lstm\n",
    "plt.figure(figsize=(15, 7))\n",
    "plt.plot(range(epochs),lstm.history['accuracy'])\n",
    "plt.plot(range(epochs),lstm.history['val_accuracy'])\n",
    "plt.xlabel('Number of epochs')\n",
    "plt.ylabel('Accuracy')\n",
    "plt.legend(['training_acc', 'validation_acc'])\n",
    "plt.title('Accuracy')"
   ]
  },
  {
   "cell_type": "code",
   "execution_count": 34,
   "id": "c161324b",
   "metadata": {
    "scrolled": false
   },
   "outputs": [
    {
     "data": {
      "text/plain": [
       "Text(0.5, 1.0, 'Accuracy')"
      ]
     },
     "execution_count": 34,
     "metadata": {},
     "output_type": "execute_result"
    },
    {
     "data": {
      "image/png": "[encoded data removed]",
      "text/plain": [
       "<Figure size 1080x504 with 1 Axes>"
      ]
     },
     "metadata": {
      "needs_background": "light"
     },
     "output_type": "display_data"
    }
   ],
   "source": [
    "#plot accuracy for blstm\n",
    "plt.figure(figsize=(15, 7))\n",
    "plt.plot(range(epochs),blstm.history['accuracy'])\n",
    "plt.plot(range(epochs),blstm.history['val_accuracy'])\n",
    "plt.xlabel('Number of epochs')\n",
    "plt.ylabel('Accuracy')\n",
    "plt.legend(['training_acc', 'validation_acc'])\n",
    "plt.title('Accuracy')"
   ]
  },
  {
   "cell_type": "code",
   "execution_count": 33,
   "id": "a0ae49d7",
   "metadata": {
    "scrolled": false
   },
   "outputs": [
    {
     "data": {
      "text/plain": [
       "Text(0.5, 1.0, 'Accuracy')"
      ]
     },
     "execution_count": 33,
     "metadata": {},
     "output_type": "execute_result"
    },
    {
     "data": {
      "image/png": "[encoded data removed]",
      "text/plain": [
       "<Figure size 1080x504 with 1 Axes>"
      ]
     },
     "metadata": {
      "needs_background": "light"
     },
     "output_type": "display_data"
    }
   ],
   "source": [
    "#plot accuracy for gru\n",
    "plt.figure(figsize=(15, 7))\n",
    "plt.plot(range(epochs), history_gru.history['accuracy'])\n",
    "plt.plot(range(epochs), history_gru.history['val_accuracy'])\n",
    "plt.xlabel('Number of epochs')\n",
    "plt.ylabel('Accuracy')\n",
    "plt.legend(['training_acc', 'validation_acc'])\n",
    "plt.title('Accuracy')"
   ]
  },
  {
   "cell_type": "code",
   "execution_count": 30,
   "id": "2da0e51b",
   "metadata": {},
   "outputs": [
    {
     "data": {
      "text/plain": [
       "Text(0.5, 1.0, 'Accuracy')"
      ]
     },
     "execution_count": 30,
     "metadata": {},
     "output_type": "execute_result"
    },
    {
     "data": {
      "image/png": "[encoded data removed]",
      "text/plain": [
       "<Figure size 1080x504 with 1 Axes>"
      ]
     },
     "metadata": {
      "needs_background": "light"
     },
     "output_type": "display_data"
    }
   ],
   "source": [
    "#plot accuracy\n",
    "plt.figure(figsize=(15, 7))\n",
    "plt.plot(range(epochs), lstm.history['accuracy'])\n",
    "plt.plot(range(epochs), blstm.history['accuracy'])\n",
    "plt.plot(range(epochs), history_gru.history['accuracy'])\n",
    "plt.xlabel('Number of epochs')\n",
    "plt.ylabel('Accuracy')\n",
    "plt.legend(['lstm_acc', 'blstm_acc', 'gru_acc'])\n",
    "plt.title('Accuracy')"
   ]
  },
  {
   "cell_type": "code",
   "execution_count": 37,
   "id": "603d4961",
   "metadata": {},
   "outputs": [
    {
     "data": {
      "text/plain": [
       "Text(0.5, 1.0, 'Validation Accuracy')"
      ]
     },
     "execution_count": 37,
     "metadata": {},
     "output_type": "execute_result"
    },
    {
     "data": {
      "image/png": "[encoded data removed]",
      "text/plain": [
       "<Figure size 1080x504 with 1 Axes>"
      ]
     },
     "metadata": {
      "needs_background": "light"
     },
     "output_type": "display_data"
    }
   ],
   "source": [
    "plt.figure(figsize=(15, 7))\n",
    "plt.plot(range(epochs), lstm.history['val_accuracy'])\n",
    "plt.plot(range(epochs), blstm.history['val_accuracy'])\n",
    "plt.plot(range(epochs), history_gru.history['val_accuracy'])\n",
    "plt.xlabel('Number of epochs')\n",
    "plt.ylabel('Validation Accuracy')\n",
    "plt.legend(['lstm_acc', 'blstm_acc', 'gru_acc'])\n",
    "plt.title('Validation Accuracy')"
   ]
  },
  {
   "cell_type": "code",
   "execution_count": 127,
   "id": "885f1a97",
   "metadata": {},
   "outputs": [
    {
     "data": {
      "text/plain": [
       "Text(69.0, 0.5, 'True')"
      ]
     },
     "execution_count": 127,
     "metadata": {},
     "output_type": "execute_result"
    },
    {
     "data": {
      "image/png": "[encoded data removed]",
      "text/plain": [
       "<Figure size 720x504 with 2 Axes>"
      ]
     },
     "metadata": {
      "needs_background": "light"
     },
     "output_type": "display_data"
    }
   ],
   "source": [
    "from sklearn.metrics import f1_score, accuracy_score, precision_score, recall_score, make_scorer\n",
    "\n",
    "lstm_pred_xtest=np.rint(lstm_model.predict(xtest_pad))\n",
    "cm=tf.math.confusion_matrix(labels=ytest, predictions=lstm_pred_xtest)\n",
    "import seaborn as sb\n",
    "plt.figure(figsize=(10,7))\n",
    "sb.heatmap(cm,annot=True , fmt='d')\n",
    "plt.xlabel('Predicted')\n",
    "plt.ylabel('True')"
   ]
  },
  {
   "cell_type": "code",
   "execution_count": 128,
   "id": "007218ea",
   "metadata": {},
   "outputs": [
    {
     "data": {
      "text/plain": [
       "Text(69.0, 0.5, 'True')"
      ]
     },
     "execution_count": 128,
     "metadata": {},
     "output_type": "execute_result"
    },
    {
     "data": {
      "image/png": "[encoded data removed]",
      "text/plain": [
       "<Figure size 720x504 with 2 Axes>"
      ]
     },
     "metadata": {
      "needs_background": "light"
     },
     "output_type": "display_data"
    }
   ],
   "source": [
    "blstm_pred_xtest=np.rint(blstm_model.predict(xtest_pad))\n",
    "cm=tf.math.confusion_matrix(labels=ytest, predictions=blstm_pred_xtest)\n",
    "import seaborn as sb\n",
    "plt.figure(figsize=(10,7))\n",
    "sb.heatmap(cm,annot=True , fmt='d')\n",
    "plt.xlabel('Predicted')\n",
    "plt.ylabel('True')"
   ]
  },
  {
   "cell_type": "code",
   "execution_count": 129,
   "id": "390f5286",
   "metadata": {},
   "outputs": [
    {
     "data": {
      "text/plain": [
       "Text(69.0, 0.5, 'True')"
      ]
     },
     "execution_count": 129,
     "metadata": {},
     "output_type": "execute_result"
    },
    {
     "data": {
      "image/png": "[encoded data removed]",
      "text/plain": [
       "<Figure size 720x504 with 2 Axes>"
      ]
     },
     "metadata": {
      "needs_background": "light"
     },
     "output_type": "display_data"
    }
   ],
   "source": [
    "gru_pred_xtest=np.rint(gru_model.predict(xtest_pad))\n",
    "cm=tf.math.confusion_matrix(labels=ytest, predictions=gru_pred_xtest)\n",
    "import seaborn as sb\n",
    "plt.figure(figsize=(10,7))\n",
    "sb.heatmap(cm,annot=True , fmt='d')\n",
    "plt.xlabel('Predicted')\n",
    "plt.ylabel('True')"
   ]
  },
  {
   "cell_type": "code",
   "execution_count": 3,
   "id": "69a92459",
   "metadata": {},
   "outputs": [
    {
     "ename": "NameError",
     "evalue": "name 'epochs' is not defined",
     "output_type": "error",
     "traceback": [
      "\u001b[1;31m---------------------------------------------------------------------------\u001b[0m",
      "\u001b[1;31mNameError\u001b[0m                                 Traceback (most recent call last)",
      "\u001b[1;32m<ipython-input-3-53e548ce6877>\u001b[0m in \u001b[0;36m<module>\u001b[1;34m\u001b[0m\n\u001b[0;32m      1\u001b[0m \u001b[1;31m#plot accuracy\u001b[0m\u001b[1;33m\u001b[0m\u001b[1;33m\u001b[0m\u001b[1;33m\u001b[0m\u001b[0m\n\u001b[0;32m      2\u001b[0m \u001b[0mplt\u001b[0m\u001b[1;33m.\u001b[0m\u001b[0mfigure\u001b[0m\u001b[1;33m(\u001b[0m\u001b[0mfigsize\u001b[0m\u001b[1;33m=\u001b[0m\u001b[1;33m(\u001b[0m\u001b[1;36m15\u001b[0m\u001b[1;33m,\u001b[0m \u001b[1;36m7\u001b[0m\u001b[1;33m)\u001b[0m\u001b[1;33m)\u001b[0m\u001b[1;33m\u001b[0m\u001b[1;33m\u001b[0m\u001b[0m\n\u001b[1;32m----> 3\u001b[1;33m \u001b[0mplt\u001b[0m\u001b[1;33m.\u001b[0m\u001b[0mplot\u001b[0m\u001b[1;33m(\u001b[0m\u001b[0mrange\u001b[0m\u001b[1;33m(\u001b[0m\u001b[0mepochs\u001b[0m\u001b[1;33m)\u001b[0m\u001b[1;33m,\u001b[0m \u001b[0mlstm\u001b[0m\u001b[1;33m.\u001b[0m\u001b[0mhistory\u001b[0m\u001b[1;33m[\u001b[0m\u001b[1;34m'accuracy'\u001b[0m\u001b[1;33m]\u001b[0m\u001b[1;33m)\u001b[0m\u001b[1;33m\u001b[0m\u001b[1;33m\u001b[0m\u001b[0m\n\u001b[0m\u001b[0;32m      4\u001b[0m \u001b[0mplt\u001b[0m\u001b[1;33m.\u001b[0m\u001b[0mplot\u001b[0m\u001b[1;33m(\u001b[0m\u001b[0mrange\u001b[0m\u001b[1;33m(\u001b[0m\u001b[0mepochs\u001b[0m\u001b[1;33m)\u001b[0m\u001b[1;33m,\u001b[0m \u001b[0mlstm\u001b[0m\u001b[1;33m.\u001b[0m\u001b[0mhistory\u001b[0m\u001b[1;33m[\u001b[0m\u001b[1;34m'val_accuracy'\u001b[0m\u001b[1;33m]\u001b[0m\u001b[1;33m)\u001b[0m\u001b[1;33m\u001b[0m\u001b[1;33m\u001b[0m\u001b[0m\n\u001b[0;32m      5\u001b[0m \u001b[0mplt\u001b[0m\u001b[1;33m.\u001b[0m\u001b[0mlegend\u001b[0m\u001b[1;33m(\u001b[0m\u001b[1;33m[\u001b[0m\u001b[1;34m'training_acc'\u001b[0m\u001b[1;33m,\u001b[0m \u001b[1;34m'validation_acc'\u001b[0m\u001b[1;33m]\u001b[0m\u001b[1;33m)\u001b[0m\u001b[1;33m\u001b[0m\u001b[1;33m\u001b[0m\u001b[0m\n",
      "\u001b[1;31mNameError\u001b[0m: name 'epochs' is not defined"
     ]
    },
    {
     "data": {
      "text/plain": [
       "<Figure size 1080x504 with 0 Axes>"
      ]
     },
     "metadata": {},
     "output_type": "display_data"
    }
   ],
   "source": [
    "#plot accuracy\n",
    "plt.figure(figsize=(15, 7))\n",
    "plt.plot(range(epochs), lstm.history['accuracy'])\n",
    "plt.plot(range(epochs), lstm.history['val_accuracy'])\n",
    "plt.legend(['training_acc', 'validation_acc'])\n",
    "plt.title('Accuracy')"
   ]
  }
 ],
 "metadata": {
  "kernelspec": {
   "display_name": "Python 3",
   "language": "python",
   "name": "python3"
  },
  "language_info": {
   "codemirror_mode": {
    "name": "ipython",
    "version": 3
   },
   "file_extension": ".py",
   "mimetype": "text/x-python",
   "name": "python",
   "nbconvert_exporter": "python",
   "pygments_lexer": "ipython3",
   "version": "3.8.8"
  }
 },
 "nbformat": 4,
 "nbformat_minor": 5
}
